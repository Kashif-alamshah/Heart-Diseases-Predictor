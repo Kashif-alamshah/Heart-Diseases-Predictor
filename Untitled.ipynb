{
 "cells": [
  {
   "cell_type": "markdown",
   "metadata": {},
   "source": [
    "## <center>logistic regression model to predict heart disease in next 10 years</center>"
   ]
  },
  {
   "cell_type": "code",
   "execution_count": 1,
   "metadata": {},
   "outputs": [
    {
     "name": "stdout",
     "output_type": "stream",
     "text": [
      "<class 'pandas.core.frame.DataFrame'>\n",
      "RangeIndex: 4238 entries, 0 to 4237\n",
      "Data columns (total 16 columns):\n",
      " #   Column           Non-Null Count  Dtype  \n",
      "---  ------           --------------  -----  \n",
      " 0   male             4238 non-null   int64  \n",
      " 1   age              4238 non-null   int64  \n",
      " 2   education        4133 non-null   float64\n",
      " 3   currentSmoker    4238 non-null   int64  \n",
      " 4   cigsPerDay       4209 non-null   float64\n",
      " 5   BPMeds           4185 non-null   float64\n",
      " 6   prevalentStroke  4238 non-null   int64  \n",
      " 7   prevalentHyp     4238 non-null   int64  \n",
      " 8   diabetes         4238 non-null   int64  \n",
      " 9   totChol          4188 non-null   float64\n",
      " 10  sysBP            4238 non-null   float64\n",
      " 11  diaBP            4238 non-null   float64\n",
      " 12  BMI              4219 non-null   float64\n",
      " 13  heartRate        4237 non-null   float64\n",
      " 14  glucose          3850 non-null   float64\n",
      " 15  TenYearCHD       4238 non-null   int64  \n",
      "dtypes: float64(9), int64(7)\n",
      "memory usage: 529.9 KB\n"
     ]
    }
   ],
   "source": [
    "import numpy as np\n",
    "import pandas as pd\n",
    "import matplotlib.pyplot as plt\n",
    "import seaborn as sns\n",
    "df=pd.read_csv('framingham.csv')\n",
    "df.info()"
   ]
  },
  {
   "cell_type": "markdown",
   "metadata": {},
   "source": [
    "Build a logistic regression model to predict heart disease in next 10 years based on following features from the given dataset 'age','cigsPerDay','totChol','sysBP','diaBP','BMI','heartRate','glucose.\n",
    "``only using these due to them being the most important columns``"
   ]
  },
  {
   "cell_type": "code",
   "execution_count": 2,
   "metadata": {},
   "outputs": [],
   "source": [
    "features=['age','cigsPerDay','totChol','diaBP','BMI','heartRate','glucose','TenYearCHD']\n",
    "df=df[features]"
   ]
  },
  {
   "cell_type": "code",
   "execution_count": 3,
   "metadata": {},
   "outputs": [
    {
     "name": "stdout",
     "output_type": "stream",
     "text": [
      "<class 'pandas.core.frame.DataFrame'>\n",
      "RangeIndex: 4238 entries, 0 to 4237\n",
      "Data columns (total 8 columns):\n",
      " #   Column      Non-Null Count  Dtype  \n",
      "---  ------      --------------  -----  \n",
      " 0   age         4238 non-null   int64  \n",
      " 1   cigsPerDay  4209 non-null   float64\n",
      " 2   totChol     4188 non-null   float64\n",
      " 3   diaBP       4238 non-null   float64\n",
      " 4   BMI         4219 non-null   float64\n",
      " 5   heartRate   4237 non-null   float64\n",
      " 6   glucose     3850 non-null   float64\n",
      " 7   TenYearCHD  4238 non-null   int64  \n",
      "dtypes: float64(6), int64(2)\n",
      "memory usage: 265.0 KB\n"
     ]
    }
   ],
   "source": [
    "df.info()"
   ]
  },
  {
   "cell_type": "code",
   "execution_count": 4,
   "metadata": {},
   "outputs": [
    {
     "data": {
      "text/plain": [
       "age             0\n",
       "cigsPerDay     29\n",
       "totChol        50\n",
       "diaBP           0\n",
       "BMI            19\n",
       "heartRate       1\n",
       "glucose       388\n",
       "TenYearCHD      0\n",
       "dtype: int64"
      ]
     },
     "execution_count": 4,
     "metadata": {},
     "output_type": "execute_result"
    }
   ],
   "source": [
    "df.isnull().sum()"
   ]
  },
  {
   "cell_type": "code",
   "execution_count": 5,
   "metadata": {},
   "outputs": [
    {
     "data": {
      "text/plain": [
       "(4238, 8)"
      ]
     },
     "execution_count": 5,
     "metadata": {},
     "output_type": "execute_result"
    }
   ],
   "source": [
    "df.shape"
   ]
  },
  {
   "cell_type": "code",
   "execution_count": 6,
   "metadata": {},
   "outputs": [],
   "source": [
    "from sklearn.impute import SimpleImputer\n",
    "\n",
    "imputer = SimpleImputer(strategy='mean')\n",
    "\n",
    "df['glucose'] = imputer.fit_transform(df[['glucose']])"
   ]
  },
  {
   "cell_type": "code",
   "execution_count": 7,
   "metadata": {},
   "outputs": [],
   "source": [
    "df=df.dropna()"
   ]
  },
  {
   "cell_type": "code",
   "execution_count": 8,
   "metadata": {},
   "outputs": [
    {
     "data": {
      "text/plain": [
       "age           0\n",
       "cigsPerDay    0\n",
       "totChol       0\n",
       "diaBP         0\n",
       "BMI           0\n",
       "heartRate     0\n",
       "glucose       0\n",
       "TenYearCHD    0\n",
       "dtype: int64"
      ]
     },
     "execution_count": 8,
     "metadata": {},
     "output_type": "execute_result"
    }
   ],
   "source": [
    "df.isnull().sum()"
   ]
  },
  {
   "cell_type": "code",
   "execution_count": 9,
   "metadata": {
    "scrolled": true
   },
   "outputs": [
    {
     "data": {
      "image/png": "[encoded data removed]",
      "text/plain": [
       "<Figure size 432x288 with 1 Axes>"
      ]
     },
     "metadata": {
      "needs_background": "light"
     },
     "output_type": "display_data"
    }
   ],
   "source": [
    "for column in df.select_dtypes(include=['float64', 'int64']).columns:\n",
    "    sns.kdeplot(df[column], label=column, shade=True)"
   ]
  },
  {
   "cell_type": "code",
   "execution_count": 10,
   "metadata": {},
   "outputs": [
    {
     "data": {
      "text/html": [
       "<div>\n",
       "<style scoped>\n",
       "    .dataframe tbody tr th:only-of-type {\n",
       "        vertical-align: middle;\n",
       "    }\n",
       "\n",
       "    .dataframe tbody tr th {\n",
       "        vertical-align: top;\n",
       "    }\n",
       "\n",
       "    .dataframe thead th {\n",
       "        text-align: right;\n",
       "    }\n",
       "</style>\n",
       "<table border=\"1\" class=\"dataframe\">\n",
       "  <thead>\n",
       "    <tr style=\"text-align: right;\">\n",
       "      <th></th>\n",
       "      <th>age</th>\n",
       "      <th>cigsPerDay</th>\n",
       "      <th>totChol</th>\n",
       "      <th>diaBP</th>\n",
       "      <th>BMI</th>\n",
       "      <th>heartRate</th>\n",
       "      <th>glucose</th>\n",
       "      <th>TenYearCHD</th>\n",
       "    </tr>\n",
       "  </thead>\n",
       "  <tbody>\n",
       "    <tr>\n",
       "      <th>count</th>\n",
       "      <td>4140.000000</td>\n",
       "      <td>4140.000000</td>\n",
       "      <td>4140.000000</td>\n",
       "      <td>4140.000000</td>\n",
       "      <td>4140.000000</td>\n",
       "      <td>4140.000000</td>\n",
       "      <td>4140.000000</td>\n",
       "      <td>4140.000000</td>\n",
       "    </tr>\n",
       "    <tr>\n",
       "      <th>mean</th>\n",
       "      <td>49.551208</td>\n",
       "      <td>8.982609</td>\n",
       "      <td>236.729710</td>\n",
       "      <td>82.898913</td>\n",
       "      <td>25.794527</td>\n",
       "      <td>75.836473</td>\n",
       "      <td>81.896303</td>\n",
       "      <td>0.150242</td>\n",
       "    </tr>\n",
       "    <tr>\n",
       "      <th>std</th>\n",
       "      <td>8.556001</td>\n",
       "      <td>11.915146</td>\n",
       "      <td>44.575614</td>\n",
       "      <td>11.872078</td>\n",
       "      <td>4.080406</td>\n",
       "      <td>12.034864</td>\n",
       "      <td>22.805139</td>\n",
       "      <td>0.357351</td>\n",
       "    </tr>\n",
       "    <tr>\n",
       "      <th>min</th>\n",
       "      <td>32.000000</td>\n",
       "      <td>0.000000</td>\n",
       "      <td>113.000000</td>\n",
       "      <td>48.000000</td>\n",
       "      <td>15.540000</td>\n",
       "      <td>44.000000</td>\n",
       "      <td>40.000000</td>\n",
       "      <td>0.000000</td>\n",
       "    </tr>\n",
       "    <tr>\n",
       "      <th>25%</th>\n",
       "      <td>42.000000</td>\n",
       "      <td>0.000000</td>\n",
       "      <td>206.000000</td>\n",
       "      <td>75.000000</td>\n",
       "      <td>23.060000</td>\n",
       "      <td>68.000000</td>\n",
       "      <td>72.000000</td>\n",
       "      <td>0.000000</td>\n",
       "    </tr>\n",
       "    <tr>\n",
       "      <th>50%</th>\n",
       "      <td>49.000000</td>\n",
       "      <td>0.000000</td>\n",
       "      <td>234.000000</td>\n",
       "      <td>82.000000</td>\n",
       "      <td>25.380000</td>\n",
       "      <td>75.000000</td>\n",
       "      <td>79.000000</td>\n",
       "      <td>0.000000</td>\n",
       "    </tr>\n",
       "    <tr>\n",
       "      <th>75%</th>\n",
       "      <td>56.000000</td>\n",
       "      <td>20.000000</td>\n",
       "      <td>263.000000</td>\n",
       "      <td>89.500000</td>\n",
       "      <td>28.040000</td>\n",
       "      <td>83.000000</td>\n",
       "      <td>85.000000</td>\n",
       "      <td>0.000000</td>\n",
       "    </tr>\n",
       "    <tr>\n",
       "      <th>max</th>\n",
       "      <td>70.000000</td>\n",
       "      <td>70.000000</td>\n",
       "      <td>696.000000</td>\n",
       "      <td>142.500000</td>\n",
       "      <td>56.800000</td>\n",
       "      <td>143.000000</td>\n",
       "      <td>394.000000</td>\n",
       "      <td>1.000000</td>\n",
       "    </tr>\n",
       "  </tbody>\n",
       "</table>\n",
       "</div>"
      ],
      "text/plain": [
       "               age   cigsPerDay      totChol        diaBP          BMI  \\\n",
       "count  4140.000000  4140.000000  4140.000000  4140.000000  4140.000000   \n",
       "mean     49.551208     8.982609   236.729710    82.898913    25.794527   \n",
       "std       8.556001    11.915146    44.575614    11.872078     4.080406   \n",
       "min      32.000000     0.000000   113.000000    48.000000    15.540000   \n",
       "25%      42.000000     0.000000   206.000000    75.000000    23.060000   \n",
       "50%      49.000000     0.000000   234.000000    82.000000    25.380000   \n",
       "75%      56.000000    20.000000   263.000000    89.500000    28.040000   \n",
       "max      70.000000    70.000000   696.000000   142.500000    56.800000   \n",
       "\n",
       "         heartRate      glucose   TenYearCHD  \n",
       "count  4140.000000  4140.000000  4140.000000  \n",
       "mean     75.836473    81.896303     0.150242  \n",
       "std      12.034864    22.805139     0.357351  \n",
       "min      44.000000    40.000000     0.000000  \n",
       "25%      68.000000    72.000000     0.000000  \n",
       "50%      75.000000    79.000000     0.000000  \n",
       "75%      83.000000    85.000000     0.000000  \n",
       "max     143.000000   394.000000     1.000000  "
      ]
     },
     "execution_count": 10,
     "metadata": {},
     "output_type": "execute_result"
    }
   ],
   "source": [
    "df.describe()"
   ]
  },
  {
   "cell_type": "code",
   "execution_count": 11,
   "metadata": {},
   "outputs": [
    {
     "data": {
      "text/html": [
       "<div>\n",
       "<style scoped>\n",
       "    .dataframe tbody tr th:only-of-type {\n",
       "        vertical-align: middle;\n",
       "    }\n",
       "\n",
       "    .dataframe tbody tr th {\n",
       "        vertical-align: top;\n",
       "    }\n",
       "\n",
       "    .dataframe thead th {\n",
       "        text-align: right;\n",
       "    }\n",
       "</style>\n",
       "<table border=\"1\" class=\"dataframe\">\n",
       "  <thead>\n",
       "    <tr style=\"text-align: right;\">\n",
       "      <th></th>\n",
       "      <th>age</th>\n",
       "      <th>cigsPerDay</th>\n",
       "      <th>totChol</th>\n",
       "      <th>diaBP</th>\n",
       "      <th>BMI</th>\n",
       "      <th>heartRate</th>\n",
       "      <th>glucose</th>\n",
       "      <th>TenYearCHD</th>\n",
       "    </tr>\n",
       "  </thead>\n",
       "  <tbody>\n",
       "    <tr>\n",
       "      <th>0</th>\n",
       "      <td>-1.233343</td>\n",
       "      <td>-0.753973</td>\n",
       "      <td>-0.936269</td>\n",
       "      <td>-1.086623</td>\n",
       "      <td>0.288112</td>\n",
       "      <td>0.345997</td>\n",
       "      <td>-0.214728</td>\n",
       "      <td>0</td>\n",
       "    </tr>\n",
       "    <tr>\n",
       "      <th>1</th>\n",
       "      <td>-0.415105</td>\n",
       "      <td>-0.753973</td>\n",
       "      <td>0.297739</td>\n",
       "      <td>-0.159967</td>\n",
       "      <td>0.719494</td>\n",
       "      <td>1.592527</td>\n",
       "      <td>-0.258583</td>\n",
       "      <td>0</td>\n",
       "    </tr>\n",
       "    <tr>\n",
       "      <th>2</th>\n",
       "      <td>-0.181322</td>\n",
       "      <td>0.924766</td>\n",
       "      <td>0.185556</td>\n",
       "      <td>-0.244209</td>\n",
       "      <td>-0.111406</td>\n",
       "      <td>-0.069513</td>\n",
       "      <td>-0.521713</td>\n",
       "      <td>0</td>\n",
       "    </tr>\n",
       "    <tr>\n",
       "      <th>3</th>\n",
       "      <td>1.338262</td>\n",
       "      <td>1.764135</td>\n",
       "      <td>-0.263174</td>\n",
       "      <td>1.019413</td>\n",
       "      <td>0.682729</td>\n",
       "      <td>-0.900532</td>\n",
       "      <td>0.925504</td>\n",
       "      <td>1</td>\n",
       "    </tr>\n",
       "    <tr>\n",
       "      <th>4</th>\n",
       "      <td>-0.415105</td>\n",
       "      <td>1.176577</td>\n",
       "      <td>1.083016</td>\n",
       "      <td>0.092757</td>\n",
       "      <td>-0.660437</td>\n",
       "      <td>0.761507</td>\n",
       "      <td>0.136113</td>\n",
       "      <td>0</td>\n",
       "    </tr>\n",
       "    <tr>\n",
       "      <th>...</th>\n",
       "      <td>...</td>\n",
       "      <td>...</td>\n",
       "      <td>...</td>\n",
       "      <td>...</td>\n",
       "      <td>...</td>\n",
       "      <td>...</td>\n",
       "      <td>...</td>\n",
       "      <td>...</td>\n",
       "    </tr>\n",
       "    <tr>\n",
       "      <th>4233</th>\n",
       "      <td>0.052460</td>\n",
       "      <td>-0.670036</td>\n",
       "      <td>1.711238</td>\n",
       "      <td>0.766689</td>\n",
       "      <td>0.043009</td>\n",
       "      <td>-0.817430</td>\n",
       "      <td>0.179968</td>\n",
       "      <td>1</td>\n",
       "    </tr>\n",
       "    <tr>\n",
       "      <th>4234</th>\n",
       "      <td>0.169351</td>\n",
       "      <td>2.855315</td>\n",
       "      <td>-0.667031</td>\n",
       "      <td>-0.244209</td>\n",
       "      <td>-1.491337</td>\n",
       "      <td>-0.900532</td>\n",
       "      <td>-0.609423</td>\n",
       "      <td>0</td>\n",
       "    </tr>\n",
       "    <tr>\n",
       "      <th>4235</th>\n",
       "      <td>-0.181322</td>\n",
       "      <td>0.924766</td>\n",
       "      <td>0.252866</td>\n",
       "      <td>-0.918140</td>\n",
       "      <td>-0.930051</td>\n",
       "      <td>0.678405</td>\n",
       "      <td>0.179968</td>\n",
       "      <td>0</td>\n",
       "    </tr>\n",
       "    <tr>\n",
       "      <th>4236</th>\n",
       "      <td>-0.648887</td>\n",
       "      <td>0.505081</td>\n",
       "      <td>-0.599721</td>\n",
       "      <td>0.345481</td>\n",
       "      <td>-1.626144</td>\n",
       "      <td>0.844609</td>\n",
       "      <td>0.003090</td>\n",
       "      <td>0</td>\n",
       "    </tr>\n",
       "    <tr>\n",
       "      <th>4237</th>\n",
       "      <td>0.286242</td>\n",
       "      <td>-0.753973</td>\n",
       "      <td>0.724032</td>\n",
       "      <td>0.008516</td>\n",
       "      <td>-1.059956</td>\n",
       "      <td>0.345997</td>\n",
       "      <td>1.100924</td>\n",
       "      <td>0</td>\n",
       "    </tr>\n",
       "  </tbody>\n",
       "</table>\n",
       "<p>4140 rows × 8 columns</p>\n",
       "</div>"
      ],
      "text/plain": [
       "           age  cigsPerDay   totChol     diaBP       BMI  heartRate   glucose  \\\n",
       "0    -1.233343   -0.753973 -0.936269 -1.086623  0.288112   0.345997 -0.214728   \n",
       "1    -0.415105   -0.753973  0.297739 -0.159967  0.719494   1.592527 -0.258583   \n",
       "2    -0.181322    0.924766  0.185556 -0.244209 -0.111406  -0.069513 -0.521713   \n",
       "3     1.338262    1.764135 -0.263174  1.019413  0.682729  -0.900532  0.925504   \n",
       "4    -0.415105    1.176577  1.083016  0.092757 -0.660437   0.761507  0.136113   \n",
       "...        ...         ...       ...       ...       ...        ...       ...   \n",
       "4233  0.052460   -0.670036  1.711238  0.766689  0.043009  -0.817430  0.179968   \n",
       "4234  0.169351    2.855315 -0.667031 -0.244209 -1.491337  -0.900532 -0.609423   \n",
       "4235 -0.181322    0.924766  0.252866 -0.918140 -0.930051   0.678405  0.179968   \n",
       "4236 -0.648887    0.505081 -0.599721  0.345481 -1.626144   0.844609  0.003090   \n",
       "4237  0.286242   -0.753973  0.724032  0.008516 -1.059956   0.345997  1.100924   \n",
       "\n",
       "      TenYearCHD  \n",
       "0              0  \n",
       "1              0  \n",
       "2              0  \n",
       "3              1  \n",
       "4              0  \n",
       "...          ...  \n",
       "4233           1  \n",
       "4234           0  \n",
       "4235           0  \n",
       "4236           0  \n",
       "4237           0  \n",
       "\n",
       "[4140 rows x 8 columns]"
      ]
     },
     "execution_count": 11,
     "metadata": {},
     "output_type": "execute_result"
    }
   ],
   "source": [
    "from sklearn.preprocessing import StandardScaler\n",
    "\n",
    "df_standardized = df.copy()\n",
    "\n",
    "X = df_standardized.iloc[:, :-1]\n",
    "y = df_standardized.iloc[:, -1]\n",
    "\n",
    "scaler = StandardScaler()\n",
    "X_scaled = scaler.fit_transform(X)\n",
    "\n",
    "df_standardized.iloc[:, :-1] = X_scaled\n",
    "\n",
    "df_standardized\n"
   ]
  },
  {
   "cell_type": "code",
   "execution_count": 12,
   "metadata": {},
   "outputs": [
    {
     "data": {
      "image/png": "[encoded data removed]",
      "text/plain": [
       "<Figure size 432x288 with 1 Axes>"
      ]
     },
     "metadata": {
      "needs_background": "light"
     },
     "output_type": "display_data"
    }
   ],
   "source": [
    "for column in df_standardized.select_dtypes(include=['float64', 'int64']).columns[:-1]:\n",
    "    sns.kdeplot(df_standardized[column], label=column, shade=True)"
   ]
  },
  {
   "cell_type": "code",
   "execution_count": 13,
   "metadata": {},
   "outputs": [
    {
     "data": {
      "text/html": [
       "<div>\n",
       "<style scoped>\n",
       "    .dataframe tbody tr th:only-of-type {\n",
       "        vertical-align: middle;\n",
       "    }\n",
       "\n",
       "    .dataframe tbody tr th {\n",
       "        vertical-align: top;\n",
       "    }\n",
       "\n",
       "    .dataframe thead th {\n",
       "        text-align: right;\n",
       "    }\n",
       "</style>\n",
       "<table border=\"1\" class=\"dataframe\">\n",
       "  <thead>\n",
       "    <tr style=\"text-align: right;\">\n",
       "      <th></th>\n",
       "      <th>age</th>\n",
       "      <th>cigsPerDay</th>\n",
       "      <th>totChol</th>\n",
       "      <th>diaBP</th>\n",
       "      <th>BMI</th>\n",
       "      <th>heartRate</th>\n",
       "      <th>glucose</th>\n",
       "      <th>TenYearCHD</th>\n",
       "    </tr>\n",
       "  </thead>\n",
       "  <tbody>\n",
       "    <tr>\n",
       "      <th>age</th>\n",
       "      <td>1.000000</td>\n",
       "      <td>-0.193261</td>\n",
       "      <td>0.265191</td>\n",
       "      <td>0.202200</td>\n",
       "      <td>0.134411</td>\n",
       "      <td>-0.012707</td>\n",
       "      <td>0.114384</td>\n",
       "      <td>0.228538</td>\n",
       "    </tr>\n",
       "    <tr>\n",
       "      <th>cigsPerDay</th>\n",
       "      <td>-0.193261</td>\n",
       "      <td>1.000000</td>\n",
       "      <td>-0.027231</td>\n",
       "      <td>-0.053740</td>\n",
       "      <td>-0.092694</td>\n",
       "      <td>0.072844</td>\n",
       "      <td>-0.055410</td>\n",
       "      <td>0.061839</td>\n",
       "    </tr>\n",
       "    <tr>\n",
       "      <th>totChol</th>\n",
       "      <td>0.265191</td>\n",
       "      <td>-0.027231</td>\n",
       "      <td>1.000000</td>\n",
       "      <td>0.165919</td>\n",
       "      <td>0.116482</td>\n",
       "      <td>0.088758</td>\n",
       "      <td>0.044728</td>\n",
       "      <td>0.086441</td>\n",
       "    </tr>\n",
       "    <tr>\n",
       "      <th>diaBP</th>\n",
       "      <td>0.202200</td>\n",
       "      <td>-0.053740</td>\n",
       "      <td>0.165919</td>\n",
       "      <td>1.000000</td>\n",
       "      <td>0.379259</td>\n",
       "      <td>0.180123</td>\n",
       "      <td>0.058222</td>\n",
       "      <td>0.145440</td>\n",
       "    </tr>\n",
       "    <tr>\n",
       "      <th>BMI</th>\n",
       "      <td>0.134411</td>\n",
       "      <td>-0.092694</td>\n",
       "      <td>0.116482</td>\n",
       "      <td>0.379259</td>\n",
       "      <td>1.000000</td>\n",
       "      <td>0.070842</td>\n",
       "      <td>0.084831</td>\n",
       "      <td>0.074401</td>\n",
       "    </tr>\n",
       "    <tr>\n",
       "      <th>heartRate</th>\n",
       "      <td>-0.012707</td>\n",
       "      <td>0.072844</td>\n",
       "      <td>0.088758</td>\n",
       "      <td>0.180123</td>\n",
       "      <td>0.070842</td>\n",
       "      <td>1.000000</td>\n",
       "      <td>0.092298</td>\n",
       "      <td>0.024534</td>\n",
       "    </tr>\n",
       "    <tr>\n",
       "      <th>glucose</th>\n",
       "      <td>0.114384</td>\n",
       "      <td>-0.055410</td>\n",
       "      <td>0.044728</td>\n",
       "      <td>0.058222</td>\n",
       "      <td>0.084831</td>\n",
       "      <td>0.092298</td>\n",
       "      <td>1.000000</td>\n",
       "      <td>0.121024</td>\n",
       "    </tr>\n",
       "    <tr>\n",
       "      <th>TenYearCHD</th>\n",
       "      <td>0.228538</td>\n",
       "      <td>0.061839</td>\n",
       "      <td>0.086441</td>\n",
       "      <td>0.145440</td>\n",
       "      <td>0.074401</td>\n",
       "      <td>0.024534</td>\n",
       "      <td>0.121024</td>\n",
       "      <td>1.000000</td>\n",
       "    </tr>\n",
       "  </tbody>\n",
       "</table>\n",
       "</div>"
      ],
      "text/plain": [
       "                 age  cigsPerDay   totChol     diaBP       BMI  heartRate  \\\n",
       "age         1.000000   -0.193261  0.265191  0.202200  0.134411  -0.012707   \n",
       "cigsPerDay -0.193261    1.000000 -0.027231 -0.053740 -0.092694   0.072844   \n",
       "totChol     0.265191   -0.027231  1.000000  0.165919  0.116482   0.088758   \n",
       "diaBP       0.202200   -0.053740  0.165919  1.000000  0.379259   0.180123   \n",
       "BMI         0.134411   -0.092694  0.116482  0.379259  1.000000   0.070842   \n",
       "heartRate  -0.012707    0.072844  0.088758  0.180123  0.070842   1.000000   \n",
       "glucose     0.114384   -0.055410  0.044728  0.058222  0.084831   0.092298   \n",
       "TenYearCHD  0.228538    0.061839  0.086441  0.145440  0.074401   0.024534   \n",
       "\n",
       "             glucose  TenYearCHD  \n",
       "age         0.114384    0.228538  \n",
       "cigsPerDay -0.055410    0.061839  \n",
       "totChol     0.044728    0.086441  \n",
       "diaBP       0.058222    0.145440  \n",
       "BMI         0.084831    0.074401  \n",
       "heartRate   0.092298    0.024534  \n",
       "glucose     1.000000    0.121024  \n",
       "TenYearCHD  0.121024    1.000000  "
      ]
     },
     "execution_count": 13,
     "metadata": {},
     "output_type": "execute_result"
    }
   ],
   "source": [
    "df_standardized.corr()"
   ]
  },
  {
   "cell_type": "code",
   "execution_count": 14,
   "metadata": {},
   "outputs": [
    {
     "name": "stdout",
     "output_type": "stream",
     "text": [
      "X_train shape: (3312, 7)\n",
      "X_test shape: (828, 7)\n",
      "y_train shape: (3312,)\n",
      "y_test shape: (828,)\n"
     ]
    }
   ],
   "source": [
    "from sklearn.model_selection import train_test_split\n",
    "\n",
    "X = df_standardized.iloc[:, :-1]\n",
    "y = df_standardized.iloc[:, -1]\n",
    "\n",
    "X_train, X_test, y_train, y_test = train_test_split(X, y, test_size=0.2, random_state=42)\n",
    "\n",
    "print(\"X_train shape:\", X_train.shape)\n",
    "print(\"X_test shape:\", X_test.shape)\n",
    "print(\"y_train shape:\", y_train.shape)\n",
    "print(\"y_test shape:\", y_test.shape)"
   ]
  },
  {
   "cell_type": "code",
   "execution_count": 15,
   "metadata": {},
   "outputs": [
    {
     "name": "stdout",
     "output_type": "stream",
     "text": [
      "Accuracy on test set (manual): 0.85\n",
      "Accuracy on test set (sklearn): 0.85\n"
     ]
    }
   ],
   "source": [
    "from sklearn.linear_model import LogisticRegression\n",
    "from sklearn.metrics import accuracy_score\n",
    "logreg = LogisticRegression(C=1e5)\n",
    "logreg.fit(X_train, y_train)\n",
    "y_test_pred = logreg.predict(X_test)\n",
    "test_accuracy = sum(y_test_pred == y_test) / len(y_test)\n",
    "test_accuracy_sklearn = accuracy_score(y_test, y_test_pred)\n",
    "print(f'Accuracy on test set (manual): {test_accuracy:.2f}')\n",
    "print(f'Accuracy on test set (sklearn): {test_accuracy_sklearn:.2f}')"
   ]
  },
  {
   "cell_type": "code",
   "execution_count": 16,
   "metadata": {},
   "outputs": [
    {
     "data": {
      "image/png": "[encoded data removed]",
      "text/plain": [
       "<Figure size 432x288 with 2 Axes>"
      ]
     },
     "metadata": {
      "needs_background": "light"
     },
     "output_type": "display_data"
    }
   ],
   "source": [
    "from sklearn.metrics import confusion_matrix, ConfusionMatrixDisplay\n",
    "import matplotlib.pyplot as plt\n",
    "y_pred = logreg.predict(X_test)\n",
    "cm = confusion_matrix(y_test, y_pred)\n",
    "disp = ConfusionMatrixDisplay(confusion_matrix=cm, display_labels=logreg.classes_)\n",
    "disp.plot(cmap='Blues')\n",
    "plt.title('Confusion Matrix')\n",
    "plt.show()"
   ]
  },
  {
   "cell_type": "code",
   "execution_count": 17,
   "metadata": {},
   "outputs": [
    {
     "data": {
      "image/png": "[encoded data removed]",
      "text/plain": [
       "<Figure size 432x288 with 1 Axes>"
      ]
     },
     "metadata": {
      "needs_background": "light"
     },
     "output_type": "display_data"
    },
    {
     "name": "stdout",
     "output_type": "stream",
     "text": [
      "Area Under the Curve (AUC): 0.74\n"
     ]
    }
   ],
   "source": [
    "from sklearn.metrics import roc_curve, roc_auc_score\n",
    "import matplotlib.pyplot as plt\n",
    "y_prob = logreg.predict_proba(X_test)[:, 1]\n",
    "fpr, tpr, thresholds = roc_curve(y_test, y_prob)\n",
    "plt.figure()\n",
    "plt.plot(fpr, tpr, color='blue', lw=2, label='ROC Curve')\n",
    "plt.plot([0, 1], [0, 1], color='red', linestyle='--', label='Random Guess')  # Diagonal line for random model\n",
    "plt.xlabel('False Positive Rate (FPR)')\n",
    "plt.ylabel('True Positive Rate (TPR)')\n",
    "plt.title('Receiver Operating Characteristic (ROC) Curve')\n",
    "plt.legend()\n",
    "plt.show()\n",
    "auc = roc_auc_score(y_test, y_prob)\n",
    "print(f\"Area Under the Curve (AUC): {auc:.2f}\")\n"
   ]
  }
 ],
 "metadata": {
  "kernelspec": {
   "display_name": "Python 3",
   "language": "python",
   "name": "python3"
  },
  "language_info": {
   "codemirror_mode": {
    "name": "ipython",
    "version": 3
   },
   "file_extension": ".py",
   "mimetype": "text/x-python",
   "name": "python",
   "nbconvert_exporter": "python",
   "pygments_lexer": "ipython3",
   "version": "3.8.5"
  }
 },
 "nbformat": 4,
 "nbformat_minor": 4
}
